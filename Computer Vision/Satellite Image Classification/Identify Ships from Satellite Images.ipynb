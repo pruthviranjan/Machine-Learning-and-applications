{
 "cells": [
  {
   "cell_type": "markdown",
   "metadata": {},
   "source": [
    "# Aim: To classify images of only ships from a collection of satellite images\n",
    "- ### Algorithm : Neural Network\n",
    "- ### Framework: Tensorflow\n",
    "\n",
    "## Steps Involved:\n",
    "- ### 1.Install Libraries\n",
    "- ### 2.Load Data\n",
    "- ### 3.Split data into train and test\n",
    "- ### 4.Building a Neural Network\n",
    "- ### 5.Running the final model\n",
    "- ### 5.Model Performance \n",
    "\n"
   ]
  },
  {
   "cell_type": "markdown",
   "metadata": {},
   "source": [
    "### 1.Install Libraries"
   ]
  },
  {
   "cell_type": "code",
   "execution_count": 4,
   "metadata": {},
   "outputs": [],
   "source": [
    "import pandas as pd\n",
    "import numpy as np\n",
    "import json\n",
    "from sklearn.model_selection import train_test_split\n",
    "from sklearn.metrics import precision_recall_fscore_support, accuracy_score\n",
    "import tensorflow as tf\n",
    "from tensorflow.python.framework import ops\n",
    "import math\n",
    "import matplotlib.pyplot as plt\n",
    "\n",
    "%config IPCompleter.greedy=True"
   ]
  },
  {
   "cell_type": "markdown",
   "metadata": {},
   "source": [
    "### 2.Load Data"
   ]
  },
  {
   "cell_type": "code",
   "execution_count": 5,
   "metadata": {},
   "outputs": [],
   "source": [
    "f=open(\"shipsnet.json\")\n",
    "dataset = json.load(f)\n",
    "f.close()\n",
    "X = np.array(dataset['data']).astype('float')\n",
    "Y = np.array(dataset['labels']).astype('uint8')\n",
    "\n",
    "\n"
   ]
  },
  {
   "cell_type": "markdown",
   "metadata": {},
   "source": [
    "### 3.Split into Train and Test"
   ]
  },
  {
   "cell_type": "code",
   "execution_count": 6,
   "metadata": {},
   "outputs": [
    {
     "name": "stdout",
     "output_type": "stream",
     "text": [
      "number of training examples = 3600\n",
      "number of test examples = 400\n",
      "X_train shape: (19200, 3600)\n",
      "Y_train shape: (1, 3600)\n",
      "X_test shape: (19200, 400)\n",
      "Y_test shape: (1, 400)\n"
     ]
    }
   ],
   "source": [
    "#standardize the values\n",
    "X=X/255\n",
    "\n",
    "#test train split\n",
    "x_train, x_test, y_train, y_test = train_test_split(X, Y, test_size=0.1,random_state=54)\n",
    "\n",
    "\n",
    "#reshaping\n",
    "x_train=x_train.T\n",
    "x_test=x_test.T\n",
    "y_train=y_train.reshape((1,len(y_train)))\n",
    "y_test=y_test.reshape((1,len(y_test)))\n",
    "\n",
    "print (\"number of training examples = \" + str(x_train.shape[1]))\n",
    "print (\"number of test examples = \" + str(x_test.shape[1]))\n",
    "print (\"X_train shape: \" + str(x_train.shape))\n",
    "print (\"Y_train shape: \" + str(y_train.shape))\n",
    "print (\"X_test shape: \" + str(x_test.shape))\n",
    "print (\"Y_test shape: \" + str(y_test.shape))\n",
    "\n"
   ]
  },
  {
   "cell_type": "markdown",
   "metadata": {},
   "source": [
    "\n",
    "### 4. Building a Neural Network\n",
    "- Layers : 2 hidden layers, 1 Output layer\n",
    "- Optimiser : Adam Optimiser\n",
    "- Regularisation : L2 Regularisation\n",
    "\n"
   ]
  },
  {
   "cell_type": "markdown",
   "metadata": {},
   "source": [
    "#### 4.1Create Placeholders"
   ]
  },
  {
   "cell_type": "code",
   "execution_count": 7,
   "metadata": {},
   "outputs": [],
   "source": [
    "def create_placeholders(n_x, n_y):\n",
    "    \"\"\"\n",
    "    Creates the placeholders for the tensorflow session.\n",
    "    \n",
    "    Arguments:\n",
    "    n_x -- scalar, size of an image vector (num_px * num_px *3=19200)\n",
    "    n_y -- scalar, number of classes\n",
    "    \n",
    "    Returns:\n",
    "    X -- placeholder for the data input, of shape [n_x, None] and dtype \"float\"\n",
    "    Y -- placeholder for the input labels, of shape [n_y, None] and dtype \"float\"\n",
    "    \n",
    "    Tips:\n",
    "    - You will use None because it let's us be flexible on the number of examples you will for the placeholders.\n",
    "      In fact, the number of examples during test/train is different.\n",
    "    \"\"\"\n",
    "\n",
    "    X = tf.placeholder(tf.float32,shape=[n_x,None])\n",
    "    Y = tf.placeholder(tf.float32,shape=[n_y,None])\n",
    "\n",
    "    \n",
    "    return X, Y"
   ]
  },
  {
   "cell_type": "markdown",
   "metadata": {},
   "source": [
    "#### 4.2 Intialise Parameters\n",
    "\n"
   ]
  },
  {
   "cell_type": "code",
   "execution_count": 8,
   "metadata": {},
   "outputs": [],
   "source": [
    "def initialize_parameters(layers_dim):\n",
    "    \n",
    "    \n",
    "    \"\"\"\n",
    "    layers_dim=[19220,25,12,1]\n",
    "    Initializes parameters to build a neural network with tensorflow. The shapes are:\n",
    "                        W1 : [25,19200 ]\n",
    "                        b1 : [25, 1]\n",
    "                        W2 : [12, 25]\n",
    "                        b2 : [12, 1]\n",
    "                        W3 : [1, 12]\n",
    "                        b3 : [1, 1]\n",
    "    \n",
    "    Returns:\n",
    "    parameters -- a dictionary of tensors containing W1, b1, W2, b2, W3, b3\n",
    "    \"\"\"\n",
    "    \n",
    "    \n",
    "    tf.set_random_seed(1)                   # so that your \"random\" numbers match ours\n",
    "\n",
    "    W1 = tf.get_variable(\"W1\", [layers_dim[1],layers_dim[0]], initializer = tf.contrib.layers.xavier_initializer(seed = 1))\n",
    "    b1 = tf.get_variable(\"b1\", [layers_dim[1],1], initializer = tf.zeros_initializer())\n",
    "    W2 = tf.get_variable(\"W2\", [layers_dim[2],layers_dim[1]], initializer = tf.contrib.layers.xavier_initializer(seed = 1))\n",
    "    b2 = tf.get_variable(\"b2\", [layers_dim[2],1], initializer = tf.zeros_initializer())\n",
    "    W3 = tf.get_variable(\"W3\", [layers_dim[3],layers_dim[2]], initializer = tf.contrib.layers.xavier_initializer(seed = 1))\n",
    "    b3 = tf.get_variable(\"b3\", [layers_dim[3],1], initializer = tf.zeros_initializer())\n",
    "\n",
    "    parameters = {\"W1\": W1,\n",
    "                  \"b1\": b1,\n",
    "                  \"W2\": W2,\n",
    "                  \"b2\": b2,\n",
    "                  \"W3\": W3,\n",
    "                  \"b3\": b3}\n",
    "    \n",
    "    return parameters"
   ]
  },
  {
   "cell_type": "markdown",
   "metadata": {},
   "source": [
    "#### 4.3 Forward Propagation"
   ]
  },
  {
   "cell_type": "code",
   "execution_count": 9,
   "metadata": {},
   "outputs": [],
   "source": [
    "def forward_propagation(X, parameters):\n",
    "    \"\"\"\n",
    "    Implements the forward propagation for the model: LINEAR -> RELU -> LINEAR -> RELU -> LINEAR -> Sigmoid\n",
    "    \n",
    "    Arguments:\n",
    "    X -- input dataset placeholder, of shape (input size, number of examples)\n",
    "    parameters -- python dictionary containing your parameters \"W1\", \"b1\", \"W2\", \"b2\", \"W3\", \"b3\"\n",
    "                  the shapes are given in initialize_parameters\n",
    "\n",
    "    Returns:\n",
    "    Z3 -- the output of the last LINEAR unit\n",
    "    \"\"\"\n",
    "    \n",
    "    # Retrieve the parameters from the dictionary \"parameters\" \n",
    "    W1 = parameters['W1']\n",
    "    b1 = parameters['b1']\n",
    "    W2 = parameters['W2']\n",
    "    b2 = parameters['b2']\n",
    "    W3 = parameters['W3']\n",
    "    b3 = parameters['b3']\n",
    "         \n",
    "    Z1 = tf.add(tf.matmul(W1,X),b1)                        \n",
    "    A1 = tf.nn.relu(Z1) \n",
    "    Z2 = tf.add(tf.matmul(W2,A1),b2)                                             \n",
    "    A2 = tf.nn.relu(Z2) \n",
    "    Z3 = tf.add(tf.matmul(W3,A2),b3)                                              \n",
    "\n",
    "    \n",
    "    return Z3"
   ]
  },
  {
   "cell_type": "markdown",
   "metadata": {},
   "source": [
    "#### 4.4 Cost without Penality"
   ]
  },
  {
   "cell_type": "code",
   "execution_count": 10,
   "metadata": {},
   "outputs": [],
   "source": [
    "def compute_cost(Z3, Y):\n",
    "    \"\"\"\n",
    "    Computes the cost\n",
    "    \n",
    "    Arguments:\n",
    "    Z3 -- output of forward propagation (output of the last LINEAR unit), of shape (1, number of examples)\n",
    "    Y -- \"true\" labels vector placeholder, same shape as Z3\n",
    "    \n",
    "    Returns:\n",
    "    cost - Tensor of the cost function\n",
    "    \"\"\"\n",
    "    \n",
    "    # to fit the tensorflow requirement for tf.nn.sigmoid_cross_entropy_with_logits(...,...)\n",
    "    logits = tf.transpose(Z3)\n",
    "    labels = tf.transpose(Y)\n",
    "    \n",
    "    cost = tf.reduce_mean(tf.nn.sigmoid_cross_entropy_with_logits(logits=logits,labels=labels))\n",
    " \n",
    "    \n",
    "    return cost"
   ]
  },
  {
   "cell_type": "markdown",
   "metadata": {},
   "source": [
    "#### 4.5 Minibatches"
   ]
  },
  {
   "cell_type": "code",
   "execution_count": 11,
   "metadata": {},
   "outputs": [],
   "source": [
    "def random_mini_batches(X, Y, mini_batch_size , seed = 54):\n",
    "    \"\"\"\n",
    "    Creates a list of random minibatches from (X, Y)\n",
    "    \n",
    "    Arguments:\n",
    "    X -- input data, of shape (input size, number of examples)\n",
    "    Y -- true \"label\" vector (containing 0 if cat, 1 if non-cat), of shape (1, number of examples)\n",
    "    mini_batch_size - size of the mini-batches, integer\n",
    "    seed -- this is only for the purpose of grading, so that you're \"random minibatches are the same as ours.\n",
    "    \n",
    "    Returns:\n",
    "    mini_batches -- list of synchronous (mini_batch_X, mini_batch_Y)\n",
    "    \"\"\"\n",
    "    \n",
    "    m = X.shape[1]                  # number of training examples\n",
    "    mini_batches = []\n",
    "    np.random.seed(seed)\n",
    "    \n",
    "    # Step 1: Shuffle (X, Y)\n",
    "    permutation = list(np.random.permutation(m))\n",
    "    shuffled_X = X[:, permutation]\n",
    "    shuffled_Y = Y[:, permutation].reshape((Y.shape[0],m))\n",
    "\n",
    "    # Step 2: Partition (shuffled_X, shuffled_Y). Minus the end case.\n",
    "    num_complete_minibatches = int(m/mini_batch_size) # number of mini batches of size mini_batch_size in your partitionning\n",
    "    for k in range(0, num_complete_minibatches):\n",
    "        mini_batch_X = shuffled_X[:, k * mini_batch_size : k * mini_batch_size + mini_batch_size]\n",
    "        mini_batch_Y = shuffled_Y[:, k * mini_batch_size : k * mini_batch_size + mini_batch_size]\n",
    "        mini_batch = (mini_batch_X, mini_batch_Y)\n",
    "        mini_batches.append(mini_batch)\n",
    "    \n",
    "    # Handling the end case (last mini-batch < mini_batch_size)\n",
    "    if m % mini_batch_size != 0:\n",
    "        mini_batch_X = shuffled_X[:, num_complete_minibatches * mini_batch_size : m]\n",
    "        mini_batch_Y = shuffled_Y[:, num_complete_minibatches * mini_batch_size : m]\n",
    "        mini_batch = (mini_batch_X, mini_batch_Y)\n",
    "        mini_batches.append(mini_batch)\n",
    "    \n",
    "    return mini_batches"
   ]
  },
  {
   "cell_type": "markdown",
   "metadata": {},
   "source": [
    "### 5.Final Model\n",
    "- 2 Hidden layers with Relu Activation\n",
    "- Output Layer with Sigmoid Activation\n",
    "- Minibatch Size=64\n",
    "- Learning rate = 0.0001"
   ]
  },
  {
   "cell_type": "code",
   "execution_count": 12,
   "metadata": {},
   "outputs": [],
   "source": [
    "def model(X_train, Y_train, X_test, Y_test, layers_dim=[19200,4,4,1],learning_rate = 0.0001,\n",
    "          num_epochs =1500,minibatch_size=64,print_cost = True):\n",
    "    \"\"\"\n",
    "    Implements a three-layer tensorflow neural network: LINEAR->RELU->LINEAR->RELU->LINEAR->Sigmoid.\n",
    "    \n",
    "    Arguments:\n",
    "    X_train -- training set, of shape (input size = 19200, number of training examples = 3600)\n",
    "    Y_train -- test set, of shape (output size = 1, number of training examples = 3600)\n",
    "    X_test -- training set, of shape (input size = 19200, number of training examples = 400)\n",
    "    Y_test -- test set, of shape (output size = 1, number of test examples = 400)\n",
    "    learning_rate -- learning rate of the optimization\n",
    "    num_epochs -- number of epochs of the optimization loop\n",
    "    minibatch_size -- size of a minibatch\n",
    "    print_cost -- True to print the cost every 100 epochs\n",
    "    \n",
    "    Returns:\n",
    "    parameters -- parameters learnt by the model. They can then be used to predict.\n",
    "    \"\"\"\n",
    "    \n",
    "    ops.reset_default_graph()                         # to be able to rerun the model without overwriting tf variables\n",
    "    tf.set_random_seed(1)                             # to keep consistent results\n",
    "    seed = 3                                          # to keep consistent results\n",
    "    (n_x, m) = X_train.shape                          # (n_x: input size, m : number of examples in the train set)\n",
    "    n_y = Y_train.shape[0]                            # n_y : output size\n",
    "    costs = []                                        # To keep track of the cost\n",
    "    \n",
    "    # Create Placeholders of shape (n_x, n_y)\n",
    "    X, Y= create_placeholders(n_x,n_y)\n",
    "\n",
    "    # Initialize parameters\n",
    "    parameters = initialize_parameters(layers_dim)\n",
    "\n",
    "    \n",
    "    # Forward propagation: Build the forward propagation in the tensorflow graph\n",
    " \n",
    "    Z3 = forward_propagation(X,parameters)\n",
    "    \n",
    "    # Cost function: Add cost function to tensorflow graph\n",
    "\n",
    "    cost = compute_cost(Z3,Y)\n",
    "    \n",
    "    #Regularisation Penality\n",
    "    vars = tf.trainable_variables() \n",
    "    lossL2 = tf.add_n([ tf.nn.l2_loss(v) for v in vars if 'b' not in v.name ]) * 0.01\n",
    "\n",
    "    \n",
    "    # Backpropagation: Define the tensorflow optimizer. Use an AdamOptimizer.\n",
    "\n",
    "    optimizer = tf.train.AdamOptimizer(learning_rate = learning_rate).minimize(cost+lossL2)\n",
    "\n",
    "    \n",
    "    # Initialize all the variables\n",
    "    init = tf.global_variables_initializer()\n",
    "\n",
    "    # Start the session to compute the tensorflow graph\n",
    "    with tf.Session() as sess:\n",
    "        \n",
    "        # Run the initialization\n",
    "        sess.run(init)\n",
    "     \n",
    "        # Do the training loop\n",
    "        for epoch in range(num_epochs):\n",
    "\n",
    "            epoch_cost = 0.                       # Defines a cost related to an epoch\n",
    "            num_minibatches = int(m / minibatch_size) # number of minibatches of size minibatch_size in the train set\n",
    "            seed = seed + 1\n",
    "            minibatches = random_mini_batches(X_train, Y_train, minibatch_size, seed)\n",
    "\n",
    "            for minibatch in minibatches:\n",
    "\n",
    "                # Select a minibatch\n",
    "                (minibatch_X, minibatch_Y) = minibatch\n",
    "                \n",
    "                # IMPORTANT: The line that runs the graph on a minibatch.\n",
    "                # Run the session to execute the \"optimizer\" and the \"cost\", the feedict should contain a minibatch for (X,Y).\n",
    "            \n",
    "                _ ,_, minibatch_cost = sess.run([optimizer, lossL2,cost], feed_dict={X: minibatch_X, Y: minibatch_Y})\n",
    "                \n",
    "                \n",
    "                epoch_cost += minibatch_cost / num_minibatches\n",
    "        \n",
    "        \n",
    "        # Print the cost every epoch\n",
    "            if print_cost == True and epoch % 100 == 0:\n",
    "                print (\"Cost after epoch %i: %f\" % (epoch, epoch_cost))\n",
    "            if print_cost == True and epoch % 5 == 0:\n",
    "                costs.append(epoch_cost)\n",
    "                \n",
    "        # plot the cost\n",
    "        plt.plot(np.squeeze(costs))\n",
    "        plt.ylabel('cost')\n",
    "        plt.xlabel('iterations (per tens)')\n",
    "        plt.title(\"Learning rate =\" + str(learning_rate))\n",
    "        plt.show()\n",
    "        # lets save the parameters in a variable\n",
    "        parameters = sess.run(parameters)\n",
    "        print (\"Parameters have been trained!\")\n",
    "        \n",
    "       # Calculate the correct predictions\n",
    "        predicted=tf.round(tf.nn.sigmoid(Z3))\n",
    "        \n",
    "        correct_prediction = tf.equal(predicted, Y)\n",
    "        accuracy = tf.reduce_mean(tf.cast(correct_prediction, \"float\"))\n",
    "\n",
    "        predictions_train = predicted.eval({X: X_train, Y: Y_train})\n",
    "        predictions_test = predicted.eval({X: X_test, Y: Y_test})\n",
    "        \n",
    "        \n",
    "    \n",
    "        return predictions_train,predictions_test"
   ]
  },
  {
   "cell_type": "code",
   "execution_count": 13,
   "metadata": {},
   "outputs": [
    {
     "name": "stdout",
     "output_type": "stream",
     "text": [
      "\n",
      "WARNING: The TensorFlow contrib module will not be included in TensorFlow 2.0.\n",
      "For more information, please see:\n",
      "  * https://github.com/tensorflow/community/blob/master/rfcs/20180907-contrib-sunset.md\n",
      "  * https://github.com/tensorflow/addons\n",
      "If you depend on functionality not listed there, please file an issue.\n",
      "\n",
      "WARNING:tensorflow:From /anaconda3/envs/DataScience/lib/python2.7/site-packages/tensorflow/python/framework/op_def_library.py:263: colocate_with (from tensorflow.python.framework.ops) is deprecated and will be removed in a future version.\n",
      "Instructions for updating:\n",
      "Colocations handled automatically by placer.\n",
      "Cost after epoch 0: 0.534043\n",
      "Cost after epoch 100: 0.214606\n",
      "Cost after epoch 200: 0.150122\n",
      "Cost after epoch 300: 0.110029\n",
      "Cost after epoch 400: 0.080196\n",
      "Cost after epoch 500: 0.065888\n",
      "Cost after epoch 600: 0.071202\n",
      "Cost after epoch 700: 0.058570\n",
      "Cost after epoch 800: 0.050558\n",
      "Cost after epoch 900: 0.053900\n",
      "Cost after epoch 1000: 0.047157\n",
      "Cost after epoch 1100: 0.047899\n",
      "Cost after epoch 1200: 0.042709\n",
      "Cost after epoch 1300: 0.048070\n",
      "Cost after epoch 1400: 0.040495\n"
     ]
    },
    {
     "data": {
      "image/png": "[encoded data removed]",
      "text/plain": [
       "<matplotlib.figure.Figure at 0x1a3563dcd0>"
      ]
     },
     "metadata": {
      "needs_background": "light"
     },
     "output_type": "display_data"
    },
    {
     "name": "stdout",
     "output_type": "stream",
     "text": [
      "Parameters have been trained!\n"
     ]
    }
   ],
   "source": [
    "predictions_train,predictions_test = model(x_train, y_train, x_test, y_test)"
   ]
  },
  {
   "cell_type": "markdown",
   "metadata": {},
   "source": [
    "### 6.Model Performance\n",
    "- Accuracy\n",
    "- Precision\n",
    "- Recall\n",
    "- F1-Score\n"
   ]
  },
  {
   "cell_type": "code",
   "execution_count": 14,
   "metadata": {},
   "outputs": [
    {
     "name": "stdout",
     "output_type": "stream",
     "text": [
      "Train Performance\n",
      "('Train Accuracy:', 0.99638888888888888)\n",
      "('Precision_train:', 0.98789878987898794)\n",
      "('recall_train:', 0.99777777777777776)\n",
      "('f1_score_train:', 0.9928137092316196)\n",
      "\n",
      "Test Performance\n",
      "('Test Accuracy:', 0.93999999999999995)\n",
      "('Precision_test:', 0.8392857142857143)\n",
      "('Recall_test:', 0.93999999999999995)\n",
      "('f1_score_test:', 0.88679245283018859)\n"
     ]
    }
   ],
   "source": [
    "precision_train, recall_train,f1_score_train,_= precision_recall_fscore_support(y_train, predictions_train, average='micro')\n",
    "precision_test, recall_test,f1_score_test,_   = precision_recall_fscore_support(y_test, predictions_test, average='micro')\n",
    "accuracy_train = accuracy_score(y_train[0],predictions_train[0])\n",
    "accuracy_test = accuracy_score(y_test[0],predictions_test[0])\n",
    "\n",
    "print(\"Train Performance\")\n",
    "print (\"Train Accuracy:\", accuracy_train)\n",
    "print (\"Precision_train:\", precision_train)\n",
    "print (\"recall_train:\", recall_train)\n",
    "print (\"f1_score_train:\", f1_score_train)\n",
    "print(\"\")\n",
    "\n",
    "print(\"Test Performance\")\n",
    "print (\"Test Accuracy:\",accuracy_test)\n",
    "print (\"Precision_test:\", precision_test)\n",
    "print (\"Recall_test:\", recall_test)\n",
    "print (\"f1_score_test:\", f1_score_test)\n"
   ]
  }
 ],
 "metadata": {
  "kernelspec": {
   "display_name": "Python 2",
   "language": "python",
   "name": "python2"
  },
  "language_info": {
   "codemirror_mode": {
    "name": "ipython",
    "version": 2
   },
   "file_extension": ".py",
   "mimetype": "text/x-python",
   "name": "python",
   "nbconvert_exporter": "python",
   "pygments_lexer": "ipython2",
   "version": "2.7.16"
  }
 },
 "nbformat": 4,
 "nbformat_minor": 2
}
